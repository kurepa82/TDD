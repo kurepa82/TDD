{
  "nbformat": 4,
  "nbformat_minor": 0,
  "metadata": {
    "colab": {
      "provenance": []
    },
    "kernelspec": {
      "display_name": "Python 3",
      "language": "python",
      "name": "python3"
    },
    "language_info": {
      "codemirror_mode": {
        "name": "ipython",
        "version": 3
      },
      "file_extension": ".py",
      "mimetype": "text/x-python",
      "name": "python",
      "nbconvert_exporter": "python",
      "pygments_lexer": "ipython3",
      "version": "3.7.7"
    },
    "accelerator": "TPU"
  },
  "cells": [
    {
      "cell_type": "markdown",
      "source": [
        "#TDD"
      ],
      "metadata": {
        "id": "8TMTGC9wTFE3"
      }
    },
    {
      "cell_type": "markdown",
      "source": [
        "## El Desarrollo Dirigido por Pruebas (TDD)\n",
        "\n",
        "El **Desarrollo Dirigido por Pruebas (TDD)**, por sus siglas en inglés, es una metodología de desarrollo de software que se enfoca en escribir pruebas automatizadas antes de escribir el código de producción. Este enfoque promueve la iteración, la claridad en el diseño y la calidad del código. El proceso de TDD generalmente sigue los siguientes pasos:\n",
        "\n",
        "1. **Escribir una prueba (Test First):** Comienza escribiendo una prueba automatizada que describa una funcionalidad específica que deseas implementar. La prueba debe ser lo suficientemente pequeña y específica para que falle inicialmente.\n",
        "\n",
        "2. **Ejecutar la prueba y fallar (Red):** Ejecuta la prueba recién escrita. Espera que falle, ya que aún no has implementado la funcionalidad que estás probando. Si la prueba no falla, verifica que esté correctamente escrita y que refleje el comportamiento deseado.\n",
        "\n",
        "3. **Escribir el código mínimo para que la prueba pase (Green):** Escribe la cantidad mínima de código necesario para que la prueba pase. El objetivo es que la prueba pase de manera exitosa, sin preocuparte por escribir código perfecto o optimizado en este momento.\n",
        "\n",
        "4. **Refactorizar (Refactor):** Una vez que la prueba ha pasado, puedes mejorar y refactorizar el código para que sea más legible, eficiente y mantenible. Asegúrate de que las pruebas sigan pasando después del refactorizado.\n",
        "\n",
        "5. **Repetir (Cycle):** Repite los pasos anteriores para agregar más funcionalidades. Escribe una nueva prueba, asegúrate de que falle, implementa el código mínimo para hacerla pasar y luego refactoriza.\n",
        "\n",
        "TDD promueve varios beneficios:\n",
        "\n",
        "- **Mayor calidad del código:** Al escribir pruebas antes de implementar el código, te aseguras de que la funcionalidad sea correcta y libre de errores.\n",
        "\n",
        "- **Diseño claro y modular:** TDD fomenta la creación de interfaces bien definidas y módulos independientes, lo que conduce a un diseño de software más limpio.\n",
        "\n",
        "- **Retroalimentación inmediata:** Las pruebas te proporcionan una retroalimentación rápida sobre el estado de tu código, lo que te permite detectar problemas temprano y abordarlos antes de que se acumulen.\n",
        "\n",
        "- **Documentación viva:** Las pruebas actúan como documentación viva del comportamiento esperado de tu código.\n",
        "\n",
        "- **Mayor confianza en el código:** Tener pruebas sólidas te brinda confianza para realizar cambios y mejoras en el código sin temor a introducir errores inadvertidamente.\n",
        "\n",
        "TDD es una práctica poderosa para el desarrollo de software, pero requiere un enfoque disciplinado y un cambio de mentalidad. Al seguir este enfoque, puedes desarrollar software más robusto y de mayor calidad.\n"
      ],
      "metadata": {
        "id": "JudnYfaPVWWf"
      }
    },
    {
      "cell_type": "code",
      "source": [
        "!pip install nose2"
      ],
      "metadata": {
        "colab": {
          "base_uri": "https://localhost:8080/"
        },
        "id": "aiKuDw_cUMXT",
        "outputId": "e811fe14-018c-4ccf-bf4e-46f60feeb95d"
      },
      "execution_count": 19,
      "outputs": [
        {
          "output_type": "stream",
          "name": "stdout",
          "text": [
            "Collecting nose2\n",
            "  Downloading nose2-0.13.0-py3-none-any.whl (205 kB)\n",
            "\u001b[?25l     \u001b[90m━━━━━━━━━━━━━━━━━━━━━━━━━━━━━━━━━━━━━━━━\u001b[0m \u001b[32m0.0/205.6 kB\u001b[0m \u001b[31m?\u001b[0m eta \u001b[36m-:--:--\u001b[0m\r\u001b[2K     \u001b[91m━━━━━━━━━━━━━━━━━━━━━\u001b[0m\u001b[90m╺\u001b[0m\u001b[90m━━━━━━━━━━━━━━━━━\u001b[0m \u001b[32m112.6/205.6 kB\u001b[0m \u001b[31m3.1 MB/s\u001b[0m eta \u001b[36m0:00:01\u001b[0m\r\u001b[2K     \u001b[90m━━━━━━━━━━━━━━━━━━━━━━━━━━━━━━━━━━━━━━━\u001b[0m \u001b[32m205.6/205.6 kB\u001b[0m \u001b[31m3.6 MB/s\u001b[0m eta \u001b[36m0:00:00\u001b[0m\n",
            "\u001b[?25hInstalling collected packages: nose2\n",
            "Successfully installed nose2-0.13.0\n"
          ]
        }
      ]
    },
    {
      "cell_type": "code",
      "source": [
        "!nose2 -v"
      ],
      "metadata": {
        "colab": {
          "base_uri": "https://localhost:8080/"
        },
        "id": "iDgYChQQUV2J",
        "outputId": "20d3eed4-1954-4428-c1e9-8f8257247f33"
      },
      "execution_count": 22,
      "outputs": [
        {
          "output_type": "stream",
          "name": "stdout",
          "text": [
            "\n",
            "----------------------------------------------------------------------\n",
            "Ran 0 tests in 0.000s\n",
            "\n",
            "OK\n"
          ]
        }
      ]
    },
    {
      "cell_type": "code",
      "source": [
        "class Calculator:\n",
        "    def add(self, a, b):\n",
        "        return a + b\n",
        "\n",
        "    def sub(self, a, b):\n",
        "        return a - b\n",
        "\n",
        "    def mul(self, a, b):\n",
        "        return a * b\n",
        "\n",
        "    def div(self, a, b):\n",
        "\n",
        "\n",
        "# Creamos una instancia de la calculadora\n",
        "calc = Calculator()\n",
        "\n",
        "# Pruebas\n",
        "assert calc.add(2, 3) == 5\n",
        "assert calc.sub(5, 2) == 3\n",
        "assert calc.mul(4, 3) == 12\n",
        "assert calc.div(10, 2) == 5\n",
        "\n",
        "print(\"Todas las pruebas han pasado.\")\n"
      ],
      "metadata": {
        "colab": {
          "base_uri": "https://localhost:8080/",
          "height": 140
        },
        "id": "VxmrkVoCT8Bb",
        "outputId": "e5b1c6ba-0634-40d0-e992-b5bc2391a86d"
      },
      "execution_count": 27,
      "outputs": [
        {
          "output_type": "error",
          "ename": "IndentationError",
          "evalue": "ignored",
          "traceback": [
            "\u001b[0;36m  File \u001b[0;32m\"<ipython-input-27-ba256a4e1759>\"\u001b[0;36m, line \u001b[0;32m15\u001b[0m\n\u001b[0;31m    calc = Calculator()\u001b[0m\n\u001b[0m                       ^\u001b[0m\n\u001b[0;31mIndentationError\u001b[0m\u001b[0;31m:\u001b[0m expected an indented block after function definition on line 11\n"
          ]
        }
      ]
    },
    {
      "cell_type": "markdown",
      "source": [
        "## Pruebas que fallan"
      ],
      "metadata": {
        "id": "xXI0xIGwVf_b"
      }
    },
    {
      "cell_type": "code",
      "source": [
        "class Calculator:\n",
        "    def add(self, a, b):\n",
        "        return a + b\n",
        "\n",
        "    def sub(self, a, b):\n",
        "        return a - b\n",
        "\n",
        "    def mul(self, a, b):\n",
        "        return a * b\n",
        "\n",
        "    def div(self, a, b):\n",
        "        if b != 0:\n",
        "            return a / b\n",
        "\n",
        "# Creamos una instancia de la calculadora\n",
        "calc = Calculator()\n",
        "\n",
        "# Pruebas que fallan\n",
        "assert calc.add(2, 3) == 6   # Debería ser 5\n",
        "assert calc.sub(5, 2) == 2   # Debería ser 3\n",
        "assert calc.mul(4, 3) == 10  # Debería ser 12\n",
        "assert calc.div(10, 2) == 4  # Debería ser 5\n",
        "\n",
        "print(\"Todas las pruebas han sido ejecutadas.\")"
      ],
      "metadata": {
        "colab": {
          "base_uri": "https://localhost:8080/",
          "height": 245
        },
        "id": "Q8WQCTrpU1Qg",
        "outputId": "01a473c9-f481-41d3-a077-9635f84b07b4"
      },
      "execution_count": 25,
      "outputs": [
        {
          "output_type": "error",
          "ename": "AssertionError",
          "evalue": "ignored",
          "traceback": [
            "\u001b[0;31m---------------------------------------------------------------------------\u001b[0m",
            "\u001b[0;31mAssertionError\u001b[0m                            Traceback (most recent call last)",
            "\u001b[0;32m<ipython-input-25-f2763854c5f4>\u001b[0m in \u001b[0;36m<cell line: 19>\u001b[0;34m()\u001b[0m\n\u001b[1;32m     17\u001b[0m \u001b[0;34m\u001b[0m\u001b[0m\n\u001b[1;32m     18\u001b[0m \u001b[0;31m# Pruebas que fallan\u001b[0m\u001b[0;34m\u001b[0m\u001b[0;34m\u001b[0m\u001b[0m\n\u001b[0;32m---> 19\u001b[0;31m \u001b[0;32massert\u001b[0m \u001b[0mcalc\u001b[0m\u001b[0;34m.\u001b[0m\u001b[0madd\u001b[0m\u001b[0;34m(\u001b[0m\u001b[0;36m2\u001b[0m\u001b[0;34m,\u001b[0m \u001b[0;36m3\u001b[0m\u001b[0;34m)\u001b[0m \u001b[0;34m==\u001b[0m \u001b[0;36m6\u001b[0m   \u001b[0;31m# Debería ser 5\u001b[0m\u001b[0;34m\u001b[0m\u001b[0;34m\u001b[0m\u001b[0m\n\u001b[0m\u001b[1;32m     20\u001b[0m \u001b[0;32massert\u001b[0m \u001b[0mcalc\u001b[0m\u001b[0;34m.\u001b[0m\u001b[0msub\u001b[0m\u001b[0;34m(\u001b[0m\u001b[0;36m5\u001b[0m\u001b[0;34m,\u001b[0m \u001b[0;36m2\u001b[0m\u001b[0;34m)\u001b[0m \u001b[0;34m==\u001b[0m \u001b[0;36m2\u001b[0m   \u001b[0;31m# Debería ser 3\u001b[0m\u001b[0;34m\u001b[0m\u001b[0;34m\u001b[0m\u001b[0m\n\u001b[1;32m     21\u001b[0m \u001b[0;32massert\u001b[0m \u001b[0mcalc\u001b[0m\u001b[0;34m.\u001b[0m\u001b[0mmul\u001b[0m\u001b[0;34m(\u001b[0m\u001b[0;36m4\u001b[0m\u001b[0;34m,\u001b[0m \u001b[0;36m3\u001b[0m\u001b[0;34m)\u001b[0m \u001b[0;34m==\u001b[0m \u001b[0;36m10\u001b[0m  \u001b[0;31m# Debería ser 12\u001b[0m\u001b[0;34m\u001b[0m\u001b[0;34m\u001b[0m\u001b[0m\n",
            "\u001b[0;31mAssertionError\u001b[0m: "
          ]
        }
      ]
    },
    {
      "cell_type": "markdown",
      "metadata": {
        "id": "G3M1vUNoetsJ"
      },
      "source": [
        "# Pruebas unitarias\n",
        "La prueba unitaria es donde cada unidad del sistema se prueba individualmente. El propósito es aislar cada parte del sistema para verificar que funcionan según lo especificado. El uso de este tipo de prueba a lo largo de la implementación es posible para reducir la cantidad de errores en la aplicación. Funciona comparando la salida de una función a probar con los valores esperados.\n",
        "\n",
        "Mire el siguiente video de 2 minutos para una comprensión más clara sobre las pruebas unitarias."
      ]
    },
    {
      "cell_type": "code",
      "metadata": {
        "id": "FqPzHkOg2gJO",
        "colab": {
          "base_uri": "https://localhost:8080/",
          "height": 322
        },
        "outputId": "1b8741db-e6c2-4649-e94e-564d901e525b"
      },
      "source": [
        "from IPython.display import YouTubeVideo\n",
        "YouTubeVideo('upzTwaVNZzs')"
      ],
      "execution_count": 1,
      "outputs": [
        {
          "output_type": "execute_result",
          "data": {
            "text/plain": [
              "<IPython.lib.display.YouTubeVideo at 0x79509a5d5300>"
            ],
            "text/html": [
              "\n",
              "        <iframe\n",
              "            width=\"400\"\n",
              "            height=\"300\"\n",
              "            src=\"https://www.youtube.com/embed/upzTwaVNZzs\"\n",
              "            frameborder=\"0\"\n",
              "            allowfullscreen\n",
              "            \n",
              "        ></iframe>\n",
              "        "
            ],
            "image/jpeg": "[encoded data removed]"
          },
          "metadata": {},
          "execution_count": 1
        }
      ]
    },
    {
      "cell_type": "markdown",
      "metadata": {
        "id": "P1eC38LM0OUr"
      },
      "source": [
        "## Práctica\n",
        "\n",
        "<un\n",
        "href=\"https://colab.research.google.com/github/damorimRG/practical_testing_book/blob/master/testgranularity/unittesting.ipynb\" target=\"_blank\">\n",
        "<img alt=\"Abrir en Colab\" src=\"https://colab.research.google.com/assets/colab-badge.svg\"></a>\n",
        "\n",
        "A continuación tenemos una clase de calculadora básica que usaremos en este tutorial. Tiene la opción de abrirlo en Google Colab haciendo clic en el botón de arriba `Abrir en Colab` donde puede ejecutar y modificar el código.\n",
        "\n",
        "El marco de prueba de unidades de Python que usaremos se llama `unittest`, uno de los marcos más conocidos para probar el código de Python."
      ]
    },
    {
      "cell_type": "code",
      "metadata": {
        "id": "bc83M4RyeDyq"
      },
      "source": [
        "import unittest"
      ],
      "execution_count": 2,
      "outputs": []
    },
    {
      "cell_type": "markdown",
      "metadata": {
        "id": "NlSOSDXT8TM5"
      },
      "source": [
        "Nuestra calculadora básica tiene solo cuatro operaciones básicas: suma, resta, multiplicación y división."
      ]
    },
    {
      "cell_type": "code",
      "metadata": {
        "id": "wM6zJL3X8IDy"
      },
      "source": [
        "class Calculator:\n",
        "    def __init__(self):\n",
        "        pass\n",
        "\n",
        "    def add(self, a, b):\n",
        "        return a + b\n",
        "\n",
        "    def sub(self, a, b):\n",
        "        return a - b\n",
        "\n",
        "    def mul(self, a, b):\n",
        "        return a * b\n",
        "\n",
        "    def div(self, a, b):\n",
        "        if b != 0:\n",
        "            return a / b"
      ],
      "execution_count": 13,
      "outputs": []
    },
    {
      "cell_type": "markdown",
      "metadata": {
        "id": "fLu5dxMlKTC1"
      },
      "source": [
        "El objetivo es garantizar que cada método funcione correctamente y proporcione el resultado correcto al recibir dos entradas cualesquiera.\n",
        "\n",
        "Un caso de prueba se crea subclasificando `unittest.TestCase`."
      ]
    },
    {
      "cell_type": "code",
      "metadata": {
        "id": "m_9AnKez-E-h"
      },
      "source": [
        "class TestCalculator(unittest.TestCase):\n",
        "\n",
        "    def test_add(self):\n",
        "        '''Test case function for addition'''\n",
        "        self.calc = Calculator()\n",
        "        result = self.calc.add(4, 7)\n",
        "        expected = 11\n",
        "        self.assertEqual(result, expected)\n",
        "\n",
        "    def test_sub(self):\n",
        "        '''Test case function for subtraction'''\n",
        "        self.calc = Calculator()\n",
        "        result = self.calc.sub(10, 5)\n",
        "        expected = 5\n",
        "        self.assertEqual(result, expected)\n",
        "\n",
        "    @unittest.skip('Some reason')\n",
        "    def test_mul(self):\n",
        "        '''Test case function for multiplication'''\n",
        "        self.calc = Calculator()\n",
        "        result = self.calc.mul(3, 7)\n",
        "        expected = 21\n",
        "        self.assertEqual(result, expected)\n",
        "\n",
        "    def test_div(self):\n",
        "        '''Test case function for division'''\n",
        "        self.calc = Calculator()\n",
        "        result = self.calc.div(10, 2)\n",
        "        expected = 4\n",
        "        self.assertEqual(result, expected)"
      ],
      "execution_count": 4,
      "outputs": []
    },
    {
      "cell_type": "markdown",
      "metadata": {
        "id": "w5YMvPwo-mqb"
      },
      "source": [
        "Creamos 4 pruebas unitarias, cada una de ellas verifica un método de la clase calculadora. Estas comprobaciones se realizan mediante llamadas a `Assertions`, en este caso la función `assertEqual`. Tenga en cuenta que marcar el método `test_mul` con `@unittest.skip('your_reason')` omitirá la prueba para ese método.\n",
        "\n",
        "Para simplemente ejecutar las pruebas, use:"
      ]
    },
    {
      "cell_type": "code",
      "metadata": {
        "id": "G0wAtv8a-4bM",
        "colab": {
          "base_uri": "https://localhost:8080/"
        },
        "outputId": "8dfd7b22-cd80-4f3d-c096-b97034da7f34"
      },
      "source": [
        "unittest.main(argv=[''], verbosity=2, exit=False)"
      ],
      "execution_count": 11,
      "outputs": [
        {
          "output_type": "stream",
          "name": "stderr",
          "text": [
            "test_div (__main__.TestCalcDiv)\n",
            "Test case function for division ... ok\n",
            "test_div_error (__main__.TestCalcDiv)\n",
            "Make sure ZeroDivisionError is raised when necessary ... FAIL\n",
            "test_div (__main__.TestCalculator)\n",
            "Make sure ZeroDivisionError is raised when necessary ... FAIL\n",
            "\n",
            "======================================================================\n",
            "FAIL: test_div_error (__main__.TestCalcDiv)\n",
            "Make sure ZeroDivisionError is raised when necessary\n",
            "----------------------------------------------------------------------\n",
            "Traceback (most recent call last):\n",
            "  File \"<ipython-input-9-4d1412c0fd4d>\", line 14, in test_div_error\n",
            "    self.assertRaises(ZeroDivisionError, self.calc.div, 10, 0)\n",
            "AssertionError: ZeroDivisionError not raised by div\n",
            "\n",
            "======================================================================\n",
            "FAIL: test_div (__main__.TestCalculator)\n",
            "Make sure ZeroDivisionError is raised when necessary\n",
            "----------------------------------------------------------------------\n",
            "Traceback (most recent call last):\n",
            "  File \"<ipython-input-7-3eaf8b53df88>\", line 6, in test_div\n",
            "    self.assertRaises(ZeroDivisionError, self.calc.div, 10, 0)\n",
            "AssertionError: ZeroDivisionError not raised by div\n",
            "\n",
            "----------------------------------------------------------------------\n",
            "Ran 3 tests in 0.024s\n",
            "\n",
            "FAILED (failures=2)\n"
          ]
        },
        {
          "output_type": "execute_result",
          "data": {
            "text/plain": [
              "<unittest.main.TestProgram at 0x79509a66db40>"
            ]
          },
          "metadata": {},
          "execution_count": 11
        }
      ]
    },
    {
      "cell_type": "markdown",
      "metadata": {
        "id": "ViO48KML_qJL"
      },
      "source": [
        "\n",
        "Después de ejecutar verás algo como:\n",
        "\n",
        "```\n",
        "test_add (__main__.TestCalculator)\n",
        "Test case function for addition ... ok\n",
        "test_div (__main__.TestCalculator)\n",
        "Test case function for division ... FAIL\n",
        "test_mul (__main__.TestCalculator)\n",
        "Test case function for multiplication ... skipped 'Some reason'\n",
        "test_sub (__main__.TestCalculator)\n",
        "Test case function for subtraction ... ok\n",
        "```\n",
        "\n",
        "\n",
        "Donde la suma y la resta pasaron, la multiplicación se omitió intencionalmente y la división falló.\n",
        "\n",
        "Unittest tiene varias funciones, conocidas como `Assertions`, útiles para el desarrollo de pruebas unitarias. Algunos son: `assertNotEqual(a, b)`, `assertTrue(x)`, `assertFalse(x)`, `assertIs(a, b)`, `assertIsNot(a, b)`, `assertIsNone(x)` , y mucho más."
      ]
    },
    {
      "cell_type": "markdown",
      "metadata": {
        "id": "oSNV-9X2K9FS"
      },
      "source": [
        "\n",
        "## Pruebas de excepción\n",
        "\n",
        "Del mismo modo, las funciones `assert*` enumeradas anteriormente también tienen la función `assertRaises` para probar una excepción.\n",
        "\n",
        "Utilice: `assertRaises(excepción, invocable, *args, **kwds)`\n",
        "\n",
        "Donde `exception` es el tipo de excepción, `callable` es el método a probar y `args` son parámetros opcionales pasados ​​al método `callable`.\n",
        "\n",
        "Cambiemos la operación de división de la calculadora por un uso práctico de `assertRaises`."
      ]
    },
    {
      "cell_type": "code",
      "metadata": {
        "id": "apjyti3t7w4g"
      },
      "source": [
        "class Calculator:\n",
        "    def __init__(self):\n",
        "        pass\n",
        "\n",
        "    def add(self, a, b):\n",
        "        return a + b\n",
        "\n",
        "    def sub(self, a, b):\n",
        "        return a - b\n",
        "\n",
        "    def mul(self, a, b):\n",
        "        return a * b\n",
        "\n",
        "    def div(self, a, b):\n",
        "        if b == 0:\n",
        "            raise ZeroDivisionError(\"The divisor must not be zero\")\n",
        "        return a / b"
      ],
      "execution_count": 6,
      "outputs": []
    },
    {
      "cell_type": "markdown",
      "metadata": {
        "id": "dtKXCsfDId5E"
      },
      "source": [
        "Cada vez que se llama a `div` con el divisor igual a 0, aparece un error. Compruébelo ejecutando el siguiente caso de prueba:"
      ]
    },
    {
      "cell_type": "code",
      "metadata": {
        "id": "8wBtAY0II8bG",
        "colab": {
          "base_uri": "https://localhost:8080/"
        },
        "outputId": "176869ca-bce3-4d26-b1b7-9cb8e4d3eff4"
      },
      "source": [
        "class TestCalculator(unittest.TestCase):\n",
        "\n",
        "    def test_div(self):\n",
        "        '''Make sure ZeroDivisionError is raised when necessary'''\n",
        "        self.calc = Calculator()\n",
        "        self.assertRaises(ZeroDivisionError, self.calc.div, 10, 0)\n",
        "\n",
        "unittest.main(argv=[''], verbosity=2, exit=False)"
      ],
      "execution_count": 7,
      "outputs": [
        {
          "output_type": "stream",
          "name": "stderr",
          "text": [
            "test_div (__main__.TestCalculator)\n",
            "Make sure ZeroDivisionError is raised when necessary ... ok\n",
            "\n",
            "----------------------------------------------------------------------\n",
            "Ran 1 test in 0.011s\n",
            "\n",
            "OK\n"
          ]
        },
        {
          "output_type": "execute_result",
          "data": {
            "text/plain": [
              "<unittest.main.TestProgram at 0x79509a6267a0>"
            ]
          },
          "metadata": {},
          "execution_count": 7
        }
      ]
    },
    {
      "cell_type": "markdown",
      "metadata": {
        "id": "YWCrD0yyJHXa"
      },
      "source": [
        "\n",
        "La prueba pasa porque 10 sobre 0 genera una excepción `ZeroDivisionError`."
      ]
    },
    {
      "cell_type": "markdown",
      "metadata": {
        "id": "wUBMH5EmxRTf"
      },
      "source": [
        "## Organización de casos de prueba\n",
        "\n",
        "La organización de los casos de prueba es fundamental para hacerlos mejores, más independientes y ayudar a su mantenimiento. Para eso, existen varios estándares relacionados con las pruebas automatizadas que se pueden utilizar en las pruebas unitarias. Algunos de ellos son:"
      ]
    },
    {
      "cell_type": "markdown",
      "metadata": {
        "id": "SrsCjvFtKMse"
      },
      "source": [
        "### Organización por instancias\n",
        "\n",
        "Como se vio anteriormente, los casos de prueba de unidad están representados por instancias `unittest.TestCase`. En otras palabras, creamos solo una clase de prueba que contiene todas las pruebas de sus métodos. Para una buena organización del código de prueba, es posible crear diferentes instancias, lo que significa que cada una puede contener un montón de pruebas específicas para un solo método.\n",
        "\n",
        "Vamos a crear otro caso de prueba solo para división."
      ]
    },
    {
      "cell_type": "code",
      "metadata": {
        "id": "BcyiMC0BKTM5",
        "colab": {
          "base_uri": "https://localhost:8080/"
        },
        "outputId": "a2e004fd-51ba-46c5-b107-dcdde81d33a9"
      },
      "source": [
        "class TestCalcDiv(unittest.TestCase):\n",
        "\n",
        "    def test_div(self):\n",
        "        '''Test case function for division'''\n",
        "        self.calc = Calculator()\n",
        "        self.assertEqual(self.calc.div(10, 5), 2)\n",
        "        self.assertEqual(self.calc.div(12, 2), 6)\n",
        "\n",
        "    def test_div_error(self):\n",
        "        '''Make sure ZeroDivisionError is raised when necessary'''\n",
        "        self.calc = Calculator()\n",
        "        self.assertRaises(ZeroDivisionError, self.calc.div, 10, 0)\n",
        "\n",
        "unittest.main(argv=[''], defaultTest='TestCalcDiv', verbosity=2, exit=False)"
      ],
      "execution_count": 8,
      "outputs": [
        {
          "output_type": "stream",
          "name": "stderr",
          "text": [
            "test_div (__main__.TestCalcDiv)\n",
            "Test case function for division ... ok\n",
            "test_div_error (__main__.TestCalcDiv)\n",
            "Make sure ZeroDivisionError is raised when necessary ... ok\n",
            "\n",
            "----------------------------------------------------------------------\n",
            "Ran 2 tests in 0.013s\n",
            "\n",
            "OK\n"
          ]
        },
        {
          "output_type": "execute_result",
          "data": {
            "text/plain": [
              "<unittest.main.TestProgram at 0x79509a6276d0>"
            ]
          },
          "metadata": {},
          "execution_count": 8
        }
      ]
    },
    {
      "cell_type": "markdown",
      "metadata": {
        "id": "C2OjssRIPiDS"
      },
      "source": [
        "\n",
        "El caso de prueba anterior pasará."
      ]
    },
    {
      "cell_type": "markdown",
      "metadata": {
        "id": "vkVGBtwwxXac"
      },
      "source": [
        "### Configurar() y Desmontar()\n",
        "\n",
        "Los métodos setUp y tearDown también son útiles para organizar casos de prueba. Cuando se define una `configuración`, el corredor de la prueba ejecutará ese método **antes** de cada prueba. Del mismo modo, si se define un `tearDown`, el corredor de pruebas invocará ese método **después** de cada prueba.\n",
        "\n",
        "Como puede notar, estamos creando una instancia de Calculator `self.calc = Calculator()` en cada método que se probará. Para evitar repetir el código, simplemente podemos usar la función `setUp` disponible."
      ]
    },
    {
      "cell_type": "code",
      "metadata": {
        "id": "FHbBFvQWOS0N",
        "colab": {
          "base_uri": "https://localhost:8080/"
        },
        "outputId": "ca7d2a45-5196-42ac-c772-b21ac96df158"
      },
      "source": [
        "class TestCalcDiv(unittest.TestCase):\n",
        "\n",
        "    def setUp(self):\n",
        "        '''Set up an instance of Calculator pior to every test execution'''\n",
        "        self.calc = Calculator()\n",
        "\n",
        "    def test_div(self):\n",
        "        '''Test case function for division'''\n",
        "        self.assertEqual(self.calc.div(10, 5), 2)\n",
        "        self.assertEqual(self.calc.div(12, 2), 6)\n",
        "\n",
        "    def test_div_error(self):\n",
        "        '''Make sure ZeroDivisionError is raised when necessary'''\n",
        "        self.assertRaises(ZeroDivisionError, self.calc.div, 10, 0)\n",
        "\n",
        "unittest.main(argv=[''], defaultTest='TestCalcDiv', verbosity=2, exit=False)"
      ],
      "execution_count": 9,
      "outputs": [
        {
          "output_type": "stream",
          "name": "stderr",
          "text": [
            "test_div (__main__.TestCalcDiv)\n",
            "Test case function for division ... ok\n",
            "test_div_error (__main__.TestCalcDiv)\n",
            "Make sure ZeroDivisionError is raised when necessary ... ok\n",
            "\n",
            "----------------------------------------------------------------------\n",
            "Ran 2 tests in 0.014s\n",
            "\n",
            "OK\n"
          ]
        },
        {
          "output_type": "execute_result",
          "data": {
            "text/plain": [
              "<unittest.main.TestProgram at 0x79509a66fe50>"
            ]
          },
          "metadata": {},
          "execution_count": 9
        }
      ]
    },
    {
      "cell_type": "markdown",
      "metadata": {
        "id": "jgrLmXwoZV0a"
      },
      "source": [
        "\n",
        "El caso de prueba debería pasar sin problemas. Puede intentar crear su propia función `tearDown` en Colab."
      ]
    },
    {
      "cell_type": "markdown",
      "metadata": {
        "id": "opuRF9GQVo2I"
      },
      "source": [
        "\n",
        "## Consideración final\n",
        "\n",
        "La prueba no detectará todos los errores en el programa, porque no puede evaluar todas las rutas de ejecución en ninguno de los programas, excepto en los más triviales. No puede probar la corrección. Este problema es un superconjunto del problema de detención, que es indecidible."
      ]
    },
    {
      "cell_type": "markdown",
      "metadata": {
        "id": "xHl-Kc6L1U-F"
      },
      "source": [
        "## References\n",
        "\n",
        "1. [Unit testing framework](https://docs.python.org/3/library/unittest.html)"
      ]
    }
  ]
}